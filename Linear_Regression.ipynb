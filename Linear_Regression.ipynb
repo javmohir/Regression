{
  "cells": [
    {
      "cell_type": "markdown",
      "metadata": {
        "id": "view-in-github",
        "colab_type": "text"
      },
      "source": [
        "<a href=\"https://colab.research.google.com/github/javmohir/Regression/blob/main/Linear_Regression.ipynb\" target=\"_parent\"><img src=\"https://colab.research.google.com/assets/colab-badge.svg\" alt=\"Open In Colab\"/></a>"
      ]
    },
    {
      "cell_type": "code",
      "execution_count": 1,
      "metadata": {
        "colab": {
          "base_uri": "https://localhost:8080/",
          "height": 206
        },
        "id": "T6T2mX8eT_qS",
        "outputId": "001b243f-b3ba-4902-c2c1-c3e239f019c9"
      },
      "outputs": [
        {
          "output_type": "execute_result",
          "data": {
            "text/plain": [
              "        district  rooms  size  level  max_levels    price\n",
              "0   Юнусабадский      3  57.0      4           4  52000.0\n",
              "1  Яккасарайский      2  52.0      4           5  56000.0\n",
              "2   Чиланзарский      2  42.0      4           4  37000.0\n",
              "3   Чиланзарский      3  65.0      1           4  49500.0\n",
              "4   Чиланзарский      3  70.0      3           5  55000.0"
            ],
            "text/html": [
              "\n",
              "  <div id=\"df-8a0b7719-9810-4887-bac2-a1d4613f517e\" class=\"colab-df-container\">\n",
              "    <div>\n",
              "<style scoped>\n",
              "    .dataframe tbody tr th:only-of-type {\n",
              "        vertical-align: middle;\n",
              "    }\n",
              "\n",
              "    .dataframe tbody tr th {\n",
              "        vertical-align: top;\n",
              "    }\n",
              "\n",
              "    .dataframe thead th {\n",
              "        text-align: right;\n",
              "    }\n",
              "</style>\n",
              "<table border=\"1\" class=\"dataframe\">\n",
              "  <thead>\n",
              "    <tr style=\"text-align: right;\">\n",
              "      <th></th>\n",
              "      <th>district</th>\n",
              "      <th>rooms</th>\n",
              "      <th>size</th>\n",
              "      <th>level</th>\n",
              "      <th>max_levels</th>\n",
              "      <th>price</th>\n",
              "    </tr>\n",
              "  </thead>\n",
              "  <tbody>\n",
              "    <tr>\n",
              "      <th>0</th>\n",
              "      <td>Юнусабадский</td>\n",
              "      <td>3</td>\n",
              "      <td>57.0</td>\n",
              "      <td>4</td>\n",
              "      <td>4</td>\n",
              "      <td>52000.0</td>\n",
              "    </tr>\n",
              "    <tr>\n",
              "      <th>1</th>\n",
              "      <td>Яккасарайский</td>\n",
              "      <td>2</td>\n",
              "      <td>52.0</td>\n",
              "      <td>4</td>\n",
              "      <td>5</td>\n",
              "      <td>56000.0</td>\n",
              "    </tr>\n",
              "    <tr>\n",
              "      <th>2</th>\n",
              "      <td>Чиланзарский</td>\n",
              "      <td>2</td>\n",
              "      <td>42.0</td>\n",
              "      <td>4</td>\n",
              "      <td>4</td>\n",
              "      <td>37000.0</td>\n",
              "    </tr>\n",
              "    <tr>\n",
              "      <th>3</th>\n",
              "      <td>Чиланзарский</td>\n",
              "      <td>3</td>\n",
              "      <td>65.0</td>\n",
              "      <td>1</td>\n",
              "      <td>4</td>\n",
              "      <td>49500.0</td>\n",
              "    </tr>\n",
              "    <tr>\n",
              "      <th>4</th>\n",
              "      <td>Чиланзарский</td>\n",
              "      <td>3</td>\n",
              "      <td>70.0</td>\n",
              "      <td>3</td>\n",
              "      <td>5</td>\n",
              "      <td>55000.0</td>\n",
              "    </tr>\n",
              "  </tbody>\n",
              "</table>\n",
              "</div>\n",
              "    <div class=\"colab-df-buttons\">\n",
              "\n",
              "  <div class=\"colab-df-container\">\n",
              "    <button class=\"colab-df-convert\" onclick=\"convertToInteractive('df-8a0b7719-9810-4887-bac2-a1d4613f517e')\"\n",
              "            title=\"Convert this dataframe to an interactive table.\"\n",
              "            style=\"display:none;\">\n",
              "\n",
              "  <svg xmlns=\"http://www.w3.org/2000/svg\" height=\"24px\" viewBox=\"0 -960 960 960\">\n",
              "    <path d=\"M120-120v-720h720v720H120Zm60-500h600v-160H180v160Zm220 220h160v-160H400v160Zm0 220h160v-160H400v160ZM180-400h160v-160H180v160Zm440 0h160v-160H620v160ZM180-180h160v-160H180v160Zm440 0h160v-160H620v160Z\"/>\n",
              "  </svg>\n",
              "    </button>\n",
              "\n",
              "  <style>\n",
              "    .colab-df-container {\n",
              "      display:flex;\n",
              "      gap: 12px;\n",
              "    }\n",
              "\n",
              "    .colab-df-convert {\n",
              "      background-color: #E8F0FE;\n",
              "      border: none;\n",
              "      border-radius: 50%;\n",
              "      cursor: pointer;\n",
              "      display: none;\n",
              "      fill: #1967D2;\n",
              "      height: 32px;\n",
              "      padding: 0 0 0 0;\n",
              "      width: 32px;\n",
              "    }\n",
              "\n",
              "    .colab-df-convert:hover {\n",
              "      background-color: #E2EBFA;\n",
              "      box-shadow: 0px 1px 2px rgba(60, 64, 67, 0.3), 0px 1px 3px 1px rgba(60, 64, 67, 0.15);\n",
              "      fill: #174EA6;\n",
              "    }\n",
              "\n",
              "    .colab-df-buttons div {\n",
              "      margin-bottom: 4px;\n",
              "    }\n",
              "\n",
              "    [theme=dark] .colab-df-convert {\n",
              "      background-color: #3B4455;\n",
              "      fill: #D2E3FC;\n",
              "    }\n",
              "\n",
              "    [theme=dark] .colab-df-convert:hover {\n",
              "      background-color: #434B5C;\n",
              "      box-shadow: 0px 1px 3px 1px rgba(0, 0, 0, 0.15);\n",
              "      filter: drop-shadow(0px 1px 2px rgba(0, 0, 0, 0.3));\n",
              "      fill: #FFFFFF;\n",
              "    }\n",
              "  </style>\n",
              "\n",
              "    <script>\n",
              "      const buttonEl =\n",
              "        document.querySelector('#df-8a0b7719-9810-4887-bac2-a1d4613f517e button.colab-df-convert');\n",
              "      buttonEl.style.display =\n",
              "        google.colab.kernel.accessAllowed ? 'block' : 'none';\n",
              "\n",
              "      async function convertToInteractive(key) {\n",
              "        const element = document.querySelector('#df-8a0b7719-9810-4887-bac2-a1d4613f517e');\n",
              "        const dataTable =\n",
              "          await google.colab.kernel.invokeFunction('convertToInteractive',\n",
              "                                                    [key], {});\n",
              "        if (!dataTable) return;\n",
              "\n",
              "        const docLinkHtml = 'Like what you see? Visit the ' +\n",
              "          '<a target=\"_blank\" href=https://colab.research.google.com/notebooks/data_table.ipynb>data table notebook</a>'\n",
              "          + ' to learn more about interactive tables.';\n",
              "        element.innerHTML = '';\n",
              "        dataTable['output_type'] = 'display_data';\n",
              "        await google.colab.output.renderOutput(dataTable, element);\n",
              "        const docLink = document.createElement('div');\n",
              "        docLink.innerHTML = docLinkHtml;\n",
              "        element.appendChild(docLink);\n",
              "      }\n",
              "    </script>\n",
              "  </div>\n",
              "\n",
              "\n",
              "<div id=\"df-943166e6-b822-42cb-920b-3e09ffc5ff01\">\n",
              "  <button class=\"colab-df-quickchart\" onclick=\"quickchart('df-943166e6-b822-42cb-920b-3e09ffc5ff01')\"\n",
              "            title=\"Suggest charts.\"\n",
              "            style=\"display:none;\">\n",
              "\n",
              "<svg xmlns=\"http://www.w3.org/2000/svg\" height=\"24px\"viewBox=\"0 0 24 24\"\n",
              "     width=\"24px\">\n",
              "    <g>\n",
              "        <path d=\"M19 3H5c-1.1 0-2 .9-2 2v14c0 1.1.9 2 2 2h14c1.1 0 2-.9 2-2V5c0-1.1-.9-2-2-2zM9 17H7v-7h2v7zm4 0h-2V7h2v10zm4 0h-2v-4h2v4z\"/>\n",
              "    </g>\n",
              "</svg>\n",
              "  </button>\n",
              "\n",
              "<style>\n",
              "  .colab-df-quickchart {\n",
              "      --bg-color: #E8F0FE;\n",
              "      --fill-color: #1967D2;\n",
              "      --hover-bg-color: #E2EBFA;\n",
              "      --hover-fill-color: #174EA6;\n",
              "      --disabled-fill-color: #AAA;\n",
              "      --disabled-bg-color: #DDD;\n",
              "  }\n",
              "\n",
              "  [theme=dark] .colab-df-quickchart {\n",
              "      --bg-color: #3B4455;\n",
              "      --fill-color: #D2E3FC;\n",
              "      --hover-bg-color: #434B5C;\n",
              "      --hover-fill-color: #FFFFFF;\n",
              "      --disabled-bg-color: #3B4455;\n",
              "      --disabled-fill-color: #666;\n",
              "  }\n",
              "\n",
              "  .colab-df-quickchart {\n",
              "    background-color: var(--bg-color);\n",
              "    border: none;\n",
              "    border-radius: 50%;\n",
              "    cursor: pointer;\n",
              "    display: none;\n",
              "    fill: var(--fill-color);\n",
              "    height: 32px;\n",
              "    padding: 0;\n",
              "    width: 32px;\n",
              "  }\n",
              "\n",
              "  .colab-df-quickchart:hover {\n",
              "    background-color: var(--hover-bg-color);\n",
              "    box-shadow: 0 1px 2px rgba(60, 64, 67, 0.3), 0 1px 3px 1px rgba(60, 64, 67, 0.15);\n",
              "    fill: var(--button-hover-fill-color);\n",
              "  }\n",
              "\n",
              "  .colab-df-quickchart-complete:disabled,\n",
              "  .colab-df-quickchart-complete:disabled:hover {\n",
              "    background-color: var(--disabled-bg-color);\n",
              "    fill: var(--disabled-fill-color);\n",
              "    box-shadow: none;\n",
              "  }\n",
              "\n",
              "  .colab-df-spinner {\n",
              "    border: 2px solid var(--fill-color);\n",
              "    border-color: transparent;\n",
              "    border-bottom-color: var(--fill-color);\n",
              "    animation:\n",
              "      spin 1s steps(1) infinite;\n",
              "  }\n",
              "\n",
              "  @keyframes spin {\n",
              "    0% {\n",
              "      border-color: transparent;\n",
              "      border-bottom-color: var(--fill-color);\n",
              "      border-left-color: var(--fill-color);\n",
              "    }\n",
              "    20% {\n",
              "      border-color: transparent;\n",
              "      border-left-color: var(--fill-color);\n",
              "      border-top-color: var(--fill-color);\n",
              "    }\n",
              "    30% {\n",
              "      border-color: transparent;\n",
              "      border-left-color: var(--fill-color);\n",
              "      border-top-color: var(--fill-color);\n",
              "      border-right-color: var(--fill-color);\n",
              "    }\n",
              "    40% {\n",
              "      border-color: transparent;\n",
              "      border-right-color: var(--fill-color);\n",
              "      border-top-color: var(--fill-color);\n",
              "    }\n",
              "    60% {\n",
              "      border-color: transparent;\n",
              "      border-right-color: var(--fill-color);\n",
              "    }\n",
              "    80% {\n",
              "      border-color: transparent;\n",
              "      border-right-color: var(--fill-color);\n",
              "      border-bottom-color: var(--fill-color);\n",
              "    }\n",
              "    90% {\n",
              "      border-color: transparent;\n",
              "      border-bottom-color: var(--fill-color);\n",
              "    }\n",
              "  }\n",
              "</style>\n",
              "\n",
              "  <script>\n",
              "    async function quickchart(key) {\n",
              "      const quickchartButtonEl =\n",
              "        document.querySelector('#' + key + ' button');\n",
              "      quickchartButtonEl.disabled = true;  // To prevent multiple clicks.\n",
              "      quickchartButtonEl.classList.add('colab-df-spinner');\n",
              "      try {\n",
              "        const charts = await google.colab.kernel.invokeFunction(\n",
              "            'suggestCharts', [key], {});\n",
              "      } catch (error) {\n",
              "        console.error('Error during call to suggestCharts:', error);\n",
              "      }\n",
              "      quickchartButtonEl.classList.remove('colab-df-spinner');\n",
              "      quickchartButtonEl.classList.add('colab-df-quickchart-complete');\n",
              "    }\n",
              "    (() => {\n",
              "      let quickchartButtonEl =\n",
              "        document.querySelector('#df-943166e6-b822-42cb-920b-3e09ffc5ff01 button');\n",
              "      quickchartButtonEl.style.display =\n",
              "        google.colab.kernel.accessAllowed ? 'block' : 'none';\n",
              "    })();\n",
              "  </script>\n",
              "</div>\n",
              "    </div>\n",
              "  </div>\n"
            ]
          },
          "metadata": {},
          "execution_count": 1
        }
      ],
      "source": [
        "import pandas as pd\n",
        "df=pd.read_csv(\"https://raw.githubusercontent.com/anvarnarz/praktikum_datasets/main/housing_LR.csv\", index_col=0)\n",
        "df.head()\n"
      ]
    },
    {
      "cell_type": "markdown",
      "metadata": {
        "id": "Bnps8tLkZosQ"
      },
      "source": [
        "Machine Learning.\n",
        "Linear Regression"
      ]
    },
    {
      "cell_type": "markdown",
      "metadata": {
        "id": "kl6IQk5aZuGv"
      },
      "source": [
        "Ustunlar ta'rifi\n",
        "- location - sotilayotgan uy manzili\n",
        "- district - uy joylashgan tuman\n",
        "- rooms - xonalar soni\n",
        "- size - uy maydoni (kv.m)\n",
        "- level - uy"
      ]
    },
    {
      "cell_type": "code",
      "execution_count": 2,
      "metadata": {
        "colab": {
          "base_uri": "https://localhost:8080/"
        },
        "id": "kPdBtQ47ZpxX",
        "outputId": "71a666dc-f3dc-4011-cfaa-a88b3fed5f6d"
      },
      "outputs": [
        {
          "output_type": "execute_result",
          "data": {
            "text/plain": [
              "Чиланзарский         1616\n",
              "Мирзо-Улугбекский    1342\n",
              "Учтепинский           872\n",
              "Юнусабадский          847\n",
              "Мирабадский           717\n",
              "Яккасарайский         628\n",
              "Яшнободский           456\n",
              "Шайхантахурский       356\n",
              "Олмазорский           262\n",
              "Сергелийский          159\n",
              "Янгихаётский           15\n",
              "Бектемирский            8\n",
              "Name: district, dtype: int64"
            ]
          },
          "metadata": {},
          "execution_count": 2
        }
      ],
      "source": [
        "df['district'].value_counts()"
      ]
    },
    {
      "cell_type": "markdown",
      "metadata": {
        "id": "92A09vUTaGsP"
      },
      "source": [
        "Darsimiz uchun Chilonzor tumanidagi uylarning narxini bashorat qilib ko'ramiz"
      ]
    },
    {
      "cell_type": "code",
      "execution_count": 3,
      "metadata": {
        "colab": {
          "base_uri": "https://localhost:8080/",
          "height": 206
        },
        "id": "8upacdznZ_4g",
        "outputId": "c64d2aaf-8c8c-44ce-eac5-8fb7fff0c006"
      },
      "outputs": [
        {
          "output_type": "execute_result",
          "data": {
            "text/plain": [
              "       district  rooms  size  level  max_levels    price\n",
              "2  Чиланзарский      2  42.0      4           4  37000.0\n",
              "3  Чиланзарский      3  65.0      1           4  49500.0\n",
              "4  Чиланзарский      3  70.0      3           5  55000.0\n",
              "5  Чиланзарский      1  28.0      1           4  25500.0\n",
              "6  Чиланзарский      1  30.0      2           4  21200.0"
            ],
            "text/html": [
              "\n",
              "  <div id=\"df-0df91e25-1928-4416-9357-343b79812c0e\" class=\"colab-df-container\">\n",
              "    <div>\n",
              "<style scoped>\n",
              "    .dataframe tbody tr th:only-of-type {\n",
              "        vertical-align: middle;\n",
              "    }\n",
              "\n",
              "    .dataframe tbody tr th {\n",
              "        vertical-align: top;\n",
              "    }\n",
              "\n",
              "    .dataframe thead th {\n",
              "        text-align: right;\n",
              "    }\n",
              "</style>\n",
              "<table border=\"1\" class=\"dataframe\">\n",
              "  <thead>\n",
              "    <tr style=\"text-align: right;\">\n",
              "      <th></th>\n",
              "      <th>district</th>\n",
              "      <th>rooms</th>\n",
              "      <th>size</th>\n",
              "      <th>level</th>\n",
              "      <th>max_levels</th>\n",
              "      <th>price</th>\n",
              "    </tr>\n",
              "  </thead>\n",
              "  <tbody>\n",
              "    <tr>\n",
              "      <th>2</th>\n",
              "      <td>Чиланзарский</td>\n",
              "      <td>2</td>\n",
              "      <td>42.0</td>\n",
              "      <td>4</td>\n",
              "      <td>4</td>\n",
              "      <td>37000.0</td>\n",
              "    </tr>\n",
              "    <tr>\n",
              "      <th>3</th>\n",
              "      <td>Чиланзарский</td>\n",
              "      <td>3</td>\n",
              "      <td>65.0</td>\n",
              "      <td>1</td>\n",
              "      <td>4</td>\n",
              "      <td>49500.0</td>\n",
              "    </tr>\n",
              "    <tr>\n",
              "      <th>4</th>\n",
              "      <td>Чиланзарский</td>\n",
              "      <td>3</td>\n",
              "      <td>70.0</td>\n",
              "      <td>3</td>\n",
              "      <td>5</td>\n",
              "      <td>55000.0</td>\n",
              "    </tr>\n",
              "    <tr>\n",
              "      <th>5</th>\n",
              "      <td>Чиланзарский</td>\n",
              "      <td>1</td>\n",
              "      <td>28.0</td>\n",
              "      <td>1</td>\n",
              "      <td>4</td>\n",
              "      <td>25500.0</td>\n",
              "    </tr>\n",
              "    <tr>\n",
              "      <th>6</th>\n",
              "      <td>Чиланзарский</td>\n",
              "      <td>1</td>\n",
              "      <td>30.0</td>\n",
              "      <td>2</td>\n",
              "      <td>4</td>\n",
              "      <td>21200.0</td>\n",
              "    </tr>\n",
              "  </tbody>\n",
              "</table>\n",
              "</div>\n",
              "    <div class=\"colab-df-buttons\">\n",
              "\n",
              "  <div class=\"colab-df-container\">\n",
              "    <button class=\"colab-df-convert\" onclick=\"convertToInteractive('df-0df91e25-1928-4416-9357-343b79812c0e')\"\n",
              "            title=\"Convert this dataframe to an interactive table.\"\n",
              "            style=\"display:none;\">\n",
              "\n",
              "  <svg xmlns=\"http://www.w3.org/2000/svg\" height=\"24px\" viewBox=\"0 -960 960 960\">\n",
              "    <path d=\"M120-120v-720h720v720H120Zm60-500h600v-160H180v160Zm220 220h160v-160H400v160Zm0 220h160v-160H400v160ZM180-400h160v-160H180v160Zm440 0h160v-160H620v160ZM180-180h160v-160H180v160Zm440 0h160v-160H620v160Z\"/>\n",
              "  </svg>\n",
              "    </button>\n",
              "\n",
              "  <style>\n",
              "    .colab-df-container {\n",
              "      display:flex;\n",
              "      gap: 12px;\n",
              "    }\n",
              "\n",
              "    .colab-df-convert {\n",
              "      background-color: #E8F0FE;\n",
              "      border: none;\n",
              "      border-radius: 50%;\n",
              "      cursor: pointer;\n",
              "      display: none;\n",
              "      fill: #1967D2;\n",
              "      height: 32px;\n",
              "      padding: 0 0 0 0;\n",
              "      width: 32px;\n",
              "    }\n",
              "\n",
              "    .colab-df-convert:hover {\n",
              "      background-color: #E2EBFA;\n",
              "      box-shadow: 0px 1px 2px rgba(60, 64, 67, 0.3), 0px 1px 3px 1px rgba(60, 64, 67, 0.15);\n",
              "      fill: #174EA6;\n",
              "    }\n",
              "\n",
              "    .colab-df-buttons div {\n",
              "      margin-bottom: 4px;\n",
              "    }\n",
              "\n",
              "    [theme=dark] .colab-df-convert {\n",
              "      background-color: #3B4455;\n",
              "      fill: #D2E3FC;\n",
              "    }\n",
              "\n",
              "    [theme=dark] .colab-df-convert:hover {\n",
              "      background-color: #434B5C;\n",
              "      box-shadow: 0px 1px 3px 1px rgba(0, 0, 0, 0.15);\n",
              "      filter: drop-shadow(0px 1px 2px rgba(0, 0, 0, 0.3));\n",
              "      fill: #FFFFFF;\n",
              "    }\n",
              "  </style>\n",
              "\n",
              "    <script>\n",
              "      const buttonEl =\n",
              "        document.querySelector('#df-0df91e25-1928-4416-9357-343b79812c0e button.colab-df-convert');\n",
              "      buttonEl.style.display =\n",
              "        google.colab.kernel.accessAllowed ? 'block' : 'none';\n",
              "\n",
              "      async function convertToInteractive(key) {\n",
              "        const element = document.querySelector('#df-0df91e25-1928-4416-9357-343b79812c0e');\n",
              "        const dataTable =\n",
              "          await google.colab.kernel.invokeFunction('convertToInteractive',\n",
              "                                                    [key], {});\n",
              "        if (!dataTable) return;\n",
              "\n",
              "        const docLinkHtml = 'Like what you see? Visit the ' +\n",
              "          '<a target=\"_blank\" href=https://colab.research.google.com/notebooks/data_table.ipynb>data table notebook</a>'\n",
              "          + ' to learn more about interactive tables.';\n",
              "        element.innerHTML = '';\n",
              "        dataTable['output_type'] = 'display_data';\n",
              "        await google.colab.output.renderOutput(dataTable, element);\n",
              "        const docLink = document.createElement('div');\n",
              "        docLink.innerHTML = docLinkHtml;\n",
              "        element.appendChild(docLink);\n",
              "      }\n",
              "    </script>\n",
              "  </div>\n",
              "\n",
              "\n",
              "<div id=\"df-209e860d-2420-4cef-bf53-8d79d1bf8840\">\n",
              "  <button class=\"colab-df-quickchart\" onclick=\"quickchart('df-209e860d-2420-4cef-bf53-8d79d1bf8840')\"\n",
              "            title=\"Suggest charts.\"\n",
              "            style=\"display:none;\">\n",
              "\n",
              "<svg xmlns=\"http://www.w3.org/2000/svg\" height=\"24px\"viewBox=\"0 0 24 24\"\n",
              "     width=\"24px\">\n",
              "    <g>\n",
              "        <path d=\"M19 3H5c-1.1 0-2 .9-2 2v14c0 1.1.9 2 2 2h14c1.1 0 2-.9 2-2V5c0-1.1-.9-2-2-2zM9 17H7v-7h2v7zm4 0h-2V7h2v10zm4 0h-2v-4h2v4z\"/>\n",
              "    </g>\n",
              "</svg>\n",
              "  </button>\n",
              "\n",
              "<style>\n",
              "  .colab-df-quickchart {\n",
              "      --bg-color: #E8F0FE;\n",
              "      --fill-color: #1967D2;\n",
              "      --hover-bg-color: #E2EBFA;\n",
              "      --hover-fill-color: #174EA6;\n",
              "      --disabled-fill-color: #AAA;\n",
              "      --disabled-bg-color: #DDD;\n",
              "  }\n",
              "\n",
              "  [theme=dark] .colab-df-quickchart {\n",
              "      --bg-color: #3B4455;\n",
              "      --fill-color: #D2E3FC;\n",
              "      --hover-bg-color: #434B5C;\n",
              "      --hover-fill-color: #FFFFFF;\n",
              "      --disabled-bg-color: #3B4455;\n",
              "      --disabled-fill-color: #666;\n",
              "  }\n",
              "\n",
              "  .colab-df-quickchart {\n",
              "    background-color: var(--bg-color);\n",
              "    border: none;\n",
              "    border-radius: 50%;\n",
              "    cursor: pointer;\n",
              "    display: none;\n",
              "    fill: var(--fill-color);\n",
              "    height: 32px;\n",
              "    padding: 0;\n",
              "    width: 32px;\n",
              "  }\n",
              "\n",
              "  .colab-df-quickchart:hover {\n",
              "    background-color: var(--hover-bg-color);\n",
              "    box-shadow: 0 1px 2px rgba(60, 64, 67, 0.3), 0 1px 3px 1px rgba(60, 64, 67, 0.15);\n",
              "    fill: var(--button-hover-fill-color);\n",
              "  }\n",
              "\n",
              "  .colab-df-quickchart-complete:disabled,\n",
              "  .colab-df-quickchart-complete:disabled:hover {\n",
              "    background-color: var(--disabled-bg-color);\n",
              "    fill: var(--disabled-fill-color);\n",
              "    box-shadow: none;\n",
              "  }\n",
              "\n",
              "  .colab-df-spinner {\n",
              "    border: 2px solid var(--fill-color);\n",
              "    border-color: transparent;\n",
              "    border-bottom-color: var(--fill-color);\n",
              "    animation:\n",
              "      spin 1s steps(1) infinite;\n",
              "  }\n",
              "\n",
              "  @keyframes spin {\n",
              "    0% {\n",
              "      border-color: transparent;\n",
              "      border-bottom-color: var(--fill-color);\n",
              "      border-left-color: var(--fill-color);\n",
              "    }\n",
              "    20% {\n",
              "      border-color: transparent;\n",
              "      border-left-color: var(--fill-color);\n",
              "      border-top-color: var(--fill-color);\n",
              "    }\n",
              "    30% {\n",
              "      border-color: transparent;\n",
              "      border-left-color: var(--fill-color);\n",
              "      border-top-color: var(--fill-color);\n",
              "      border-right-color: var(--fill-color);\n",
              "    }\n",
              "    40% {\n",
              "      border-color: transparent;\n",
              "      border-right-color: var(--fill-color);\n",
              "      border-top-color: var(--fill-color);\n",
              "    }\n",
              "    60% {\n",
              "      border-color: transparent;\n",
              "      border-right-color: var(--fill-color);\n",
              "    }\n",
              "    80% {\n",
              "      border-color: transparent;\n",
              "      border-right-color: var(--fill-color);\n",
              "      border-bottom-color: var(--fill-color);\n",
              "    }\n",
              "    90% {\n",
              "      border-color: transparent;\n",
              "      border-bottom-color: var(--fill-color);\n",
              "    }\n",
              "  }\n",
              "</style>\n",
              "\n",
              "  <script>\n",
              "    async function quickchart(key) {\n",
              "      const quickchartButtonEl =\n",
              "        document.querySelector('#' + key + ' button');\n",
              "      quickchartButtonEl.disabled = true;  // To prevent multiple clicks.\n",
              "      quickchartButtonEl.classList.add('colab-df-spinner');\n",
              "      try {\n",
              "        const charts = await google.colab.kernel.invokeFunction(\n",
              "            'suggestCharts', [key], {});\n",
              "      } catch (error) {\n",
              "        console.error('Error during call to suggestCharts:', error);\n",
              "      }\n",
              "      quickchartButtonEl.classList.remove('colab-df-spinner');\n",
              "      quickchartButtonEl.classList.add('colab-df-quickchart-complete');\n",
              "    }\n",
              "    (() => {\n",
              "      let quickchartButtonEl =\n",
              "        document.querySelector('#df-209e860d-2420-4cef-bf53-8d79d1bf8840 button');\n",
              "      quickchartButtonEl.style.display =\n",
              "        google.colab.kernel.accessAllowed ? 'block' : 'none';\n",
              "    })();\n",
              "  </script>\n",
              "</div>\n",
              "    </div>\n",
              "  </div>\n"
            ]
          },
          "metadata": {},
          "execution_count": 3
        }
      ],
      "source": [
        "housing = df[df['district']=='Чиланзарский']\n",
        "housing.head()"
      ]
    },
    {
      "cell_type": "code",
      "execution_count": 4,
      "metadata": {
        "colab": {
          "base_uri": "https://localhost:8080/"
        },
        "id": "NW-8C5wDal2A",
        "outputId": "700bb727-745c-4931-a2e7-1cf05a495046"
      },
      "outputs": [
        {
          "output_type": "execute_result",
          "data": {
            "text/plain": [
              "array([42., 65., 70., ..., 32., 70., 30.])"
            ]
          },
          "metadata": {},
          "execution_count": 4
        }
      ],
      "source": [
        "X=housing['size'].to_numpy()\n",
        "X"
      ]
    },
    {
      "cell_type": "code",
      "execution_count": 5,
      "metadata": {
        "colab": {
          "base_uri": "https://localhost:8080/"
        },
        "id": "dhmm_5CDa2yq",
        "outputId": "ded5daf9-e1d0-46b8-f676-ff12c2311b1e"
      },
      "outputs": [
        {
          "output_type": "execute_result",
          "data": {
            "text/plain": [
              "array([37000., 49500., 55000., ..., 28000., 49800., 22914.])"
            ]
          },
          "metadata": {},
          "execution_count": 5
        }
      ],
      "source": [
        "Y=housing['price'].to_numpy()\n",
        "Y"
      ]
    },
    {
      "cell_type": "markdown",
      "metadata": {
        "id": "M831JxtgbH4n"
      },
      "source": [
        "Narx va uy maydoni o'rtasida chiziqli bog'liqlik bor ekanini tekshirib ko'ramiz."
      ]
    },
    {
      "cell_type": "code",
      "execution_count": 6,
      "metadata": {
        "id": "_AuP82D1bDAD"
      },
      "outputs": [],
      "source": [
        "import matplotlib.pyplot as plt\n",
        "import seaborn as sns\n",
        "%matplotlib inline"
      ]
    },
    {
      "cell_type": "code",
      "execution_count": 7,
      "metadata": {
        "colab": {
          "base_uri": "https://localhost:8080/",
          "height": 542
        },
        "id": "ZD4JS77Nbffy",
        "outputId": "6748d12c-eb5f-4b61-d9c9-d51483a03534"
      },
      "outputs": [
        {
          "output_type": "display_data",
          "data": {
            "text/plain": [
              "<Figure size 1000x600 with 1 Axes>"
            ],
            "image/png": "[encoded data removed]"
          },
          "metadata": {}
        }
      ],
      "source": [
        "plt.figure(figsize=(10,6))\n",
        "sns.scatterplot(data=df, x='size', y='price')\n",
        "plt.show()"
      ]
    },
    {
      "cell_type": "code",
      "execution_count": 8,
      "metadata": {
        "colab": {
          "base_uri": "https://localhost:8080/",
          "height": 542
        },
        "id": "3D7F4ZdQcFZB",
        "outputId": "e4606b96-255b-431d-b9c4-4f9c77fb6964"
      },
      "outputs": [
        {
          "output_type": "display_data",
          "data": {
            "text/plain": [
              "<Figure size 1000x600 with 1 Axes>"
            ],
            "image/png": "[encoded data removed]"
          },
          "metadata": {}
        }
      ],
      "source": [
        "plt.figure(figsize=(10,6))\n",
        "sns.regplot(data=housing, x='size', y='price', line_kws={'color':'red'})\n",
        "plt.show()"
      ]
    },
    {
      "cell_type": "markdown",
      "metadata": {
        "id": "GOmjqgN7c86G"
      },
      "source": [
        "1-Vazifa\n",
        "Sizning vazifangiz yuqoridagi X va y o'zgaruvchilardan quyidagi formuladan foydalangan xolda\n",
        "�\n",
        "0\n",
        "θ\n",
        "0\n",
        "​\n",
        "  va\n",
        "�\n",
        "1\n",
        "θ\n",
        "1\n",
        "​\n",
        "  koeffisientlarni hisoblash.\n",
        "\n"
      ]
    },
    {
      "cell_type": "markdown",
      "metadata": {
        "id": "y85e1-UGdEIG"
      },
      "source": [
        "![image.png](data:image/png;base64,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)"
      ]
    },
    {
      "cell_type": "markdown",
      "metadata": {
        "id": "cXwOUn1qdMU-"
      },
      "source": [
        "Bu yerda\n",
        "�\n",
        "~\n",
        "x\n",
        "~\n",
        "  - X ustun uchun o'rtracha qiymat,\n",
        "�\n",
        "~\n",
        "y\n",
        "~\n",
        "​\n",
        "  - y ustun uchun o'rtracha qiymat"
      ]
    },
    {
      "cell_type": "code",
      "execution_count": 9,
      "metadata": {
        "id": "3VOeWxMecj_l"
      },
      "outputs": [],
      "source": [
        "import numpy as np\n",
        "Xmean=np.mean(X)\n",
        "ymean=np.mean(Y)"
      ]
    },
    {
      "cell_type": "code",
      "execution_count": 10,
      "metadata": {
        "colab": {
          "base_uri": "https://localhost:8080/"
        },
        "id": "EdO3tQgQeUXP",
        "outputId": "baa7b868-40d6-4d1a-b8b2-2e0e83c82a30"
      },
      "outputs": [
        {
          "output_type": "execute_result",
          "data": {
            "text/plain": [
              "61.90783415841584"
            ]
          },
          "metadata": {},
          "execution_count": 10
        }
      ],
      "source": [
        "Xmean"
      ]
    },
    {
      "cell_type": "code",
      "execution_count": 11,
      "metadata": {
        "colab": {
          "base_uri": "https://localhost:8080/"
        },
        "id": "4Wj36pH6eXGW",
        "outputId": "d515cbd7-6ee0-447c-ffb7-e9024ad2f92d"
      },
      "outputs": [
        {
          "output_type": "execute_result",
          "data": {
            "text/plain": [
              "45617.487623762376"
            ]
          },
          "metadata": {},
          "execution_count": 11
        }
      ],
      "source": [
        "ymean"
      ]
    },
    {
      "cell_type": "code",
      "execution_count": 12,
      "metadata": {
        "colab": {
          "base_uri": "https://localhost:8080/"
        },
        "id": "m6NiLMnjeuRn",
        "outputId": "e8b897f8-8f2e-4a89-8245-64c22a8301a2"
      },
      "outputs": [
        {
          "output_type": "stream",
          "name": "stdout",
          "text": [
            "theta1=740.0264822713299\n"
          ]
        }
      ],
      "source": [
        "theta1=sum((X-Xmean)*(Y-ymean)/sum((X-Xmean)**2))\n",
        "print(f\"{theta1=}\")"
      ]
    },
    {
      "cell_type": "code",
      "execution_count": 13,
      "metadata": {
        "colab": {
          "base_uri": "https://localhost:8080/"
        },
        "id": "oXnmdRnpea9C",
        "outputId": "2a6236a0-c4ea-4f68-b97c-71d48320bfb3"
      },
      "outputs": [
        {
          "output_type": "stream",
          "name": "stdout",
          "text": [
            "theta0=-195.9491135269709\n"
          ]
        }
      ],
      "source": [
        "theta0=ymean-theta1*Xmean\n",
        "print(f\"{theta0=}\")"
      ]
    },
    {
      "cell_type": "markdown",
      "metadata": {
        "id": "JDtivJcAgEy1"
      },
      "source": [
        "2-Vazifa\n",
        "X dan bir nechta tasodifiy qiymatlarni ajratib oling va ularga mos keluvchi y ni yuqoridagi koeffisientlar yordamida hisoblab ko'ring."
      ]
    },
    {
      "cell_type": "markdown",
      "metadata": {
        "id": "Ml4Ewy8cgIZ0"
      },
      "source": [
        "![image.png](data:image/png;base64,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)"
      ]
    },
    {
      "cell_type": "code",
      "execution_count": 14,
      "metadata": {
        "colab": {
          "base_uri": "https://localhost:8080/"
        },
        "id": "nnk9dUETftut",
        "outputId": "9698b3d2-9d8a-45d8-f7ac-457d940bd292"
      },
      "outputs": [
        {
          "output_type": "stream",
          "name": "stdout",
          "text": [
            "x_test=array([ 52.,  76.,  42.,  36.,  47.,  44.,  26.,  50.,  91., 112.])\n",
            "y_test=array([ 49000.,  68000.,  27000.,  27500.,  26000.,  33000.,  26100.,\n",
            "        36500.,  49000., 118000.])\n"
          ]
        }
      ],
      "source": [
        "x_test=housing.sample(10, random_state=50)['size'].to_numpy()\n",
        "print(f\"{x_test=}\")\n",
        "y_test=housing.sample(10, random_state=50)['price'].to_numpy()\n",
        "print(f\"{y_test=}\")"
      ]
    },
    {
      "cell_type": "code",
      "execution_count": 15,
      "metadata": {
        "colab": {
          "base_uri": "https://localhost:8080/"
        },
        "id": "ssruLPZYipPY",
        "outputId": "6a54c4b0-d61e-49c0-c2e5-1540c1fc8d81"
      },
      "outputs": [
        {
          "output_type": "stream",
          "name": "stdout",
          "text": [
            "y_predict=array([38285.42796458, 56046.06353909, 30885.16314187, 26445.00424824,\n",
            "       34585.29555323, 32365.21610641, 19044.73942553, 36805.37500004,\n",
            "       67146.46077316, 82687.01690086])\n"
          ]
        }
      ],
      "source": [
        "y_predict = theta0+theta1*x_test\n",
        "print(f\"{y_predict=}\")"
      ]
    },
    {
      "cell_type": "code",
      "execution_count": 16,
      "metadata": {
        "colab": {
          "base_uri": "https://localhost:8080/",
          "height": 363
        },
        "id": "A2X2tD06jV9P",
        "outputId": "214a07de-e19c-4178-9585-583c42dffc37"
      },
      "outputs": [
        {
          "output_type": "execute_result",
          "data": {
            "text/plain": [
              "   asl qiymat       prignoz\n",
              "0     49000.0  38285.427965\n",
              "1     68000.0  56046.063539\n",
              "2     27000.0  30885.163142\n",
              "3     27500.0  26445.004248\n",
              "4     26000.0  34585.295553\n",
              "5     33000.0  32365.216106\n",
              "6     26100.0  19044.739426\n",
              "7     36500.0  36805.375000\n",
              "8     49000.0  67146.460773\n",
              "9    118000.0  82687.016901"
            ],
            "text/html": [
              "\n",
              "  <div id=\"df-4497ab8f-f1f3-48b4-a978-bcffd4fc2883\" class=\"colab-df-container\">\n",
              "    <div>\n",
              "<style scoped>\n",
              "    .dataframe tbody tr th:only-of-type {\n",
              "        vertical-align: middle;\n",
              "    }\n",
              "\n",
              "    .dataframe tbody tr th {\n",
              "        vertical-align: top;\n",
              "    }\n",
              "\n",
              "    .dataframe thead th {\n",
              "        text-align: right;\n",
              "    }\n",
              "</style>\n",
              "<table border=\"1\" class=\"dataframe\">\n",
              "  <thead>\n",
              "    <tr style=\"text-align: right;\">\n",
              "      <th></th>\n",
              "      <th>asl qiymat</th>\n",
              "      <th>prignoz</th>\n",
              "    </tr>\n",
              "  </thead>\n",
              "  <tbody>\n",
              "    <tr>\n",
              "      <th>0</th>\n",
              "      <td>49000.0</td>\n",
              "      <td>38285.427965</td>\n",
              "    </tr>\n",
              "    <tr>\n",
              "      <th>1</th>\n",
              "      <td>68000.0</td>\n",
              "      <td>56046.063539</td>\n",
              "    </tr>\n",
              "    <tr>\n",
              "      <th>2</th>\n",
              "      <td>27000.0</td>\n",
              "      <td>30885.163142</td>\n",
              "    </tr>\n",
              "    <tr>\n",
              "      <th>3</th>\n",
              "      <td>27500.0</td>\n",
              "      <td>26445.004248</td>\n",
              "    </tr>\n",
              "    <tr>\n",
              "      <th>4</th>\n",
              "      <td>26000.0</td>\n",
              "      <td>34585.295553</td>\n",
              "    </tr>\n",
              "    <tr>\n",
              "      <th>5</th>\n",
              "      <td>33000.0</td>\n",
              "      <td>32365.216106</td>\n",
              "    </tr>\n",
              "    <tr>\n",
              "      <th>6</th>\n",
              "      <td>26100.0</td>\n",
              "      <td>19044.739426</td>\n",
              "    </tr>\n",
              "    <tr>\n",
              "      <th>7</th>\n",
              "      <td>36500.0</td>\n",
              "      <td>36805.375000</td>\n",
              "    </tr>\n",
              "    <tr>\n",
              "      <th>8</th>\n",
              "      <td>49000.0</td>\n",
              "      <td>67146.460773</td>\n",
              "    </tr>\n",
              "    <tr>\n",
              "      <th>9</th>\n",
              "      <td>118000.0</td>\n",
              "      <td>82687.016901</td>\n",
              "    </tr>\n",
              "  </tbody>\n",
              "</table>\n",
              "</div>\n",
              "    <div class=\"colab-df-buttons\">\n",
              "\n",
              "  <div class=\"colab-df-container\">\n",
              "    <button class=\"colab-df-convert\" onclick=\"convertToInteractive('df-4497ab8f-f1f3-48b4-a978-bcffd4fc2883')\"\n",
              "            title=\"Convert this dataframe to an interactive table.\"\n",
              "            style=\"display:none;\">\n",
              "\n",
              "  <svg xmlns=\"http://www.w3.org/2000/svg\" height=\"24px\" viewBox=\"0 -960 960 960\">\n",
              "    <path d=\"M120-120v-720h720v720H120Zm60-500h600v-160H180v160Zm220 220h160v-160H400v160Zm0 220h160v-160H400v160ZM180-400h160v-160H180v160Zm440 0h160v-160H620v160ZM180-180h160v-160H180v160Zm440 0h160v-160H620v160Z\"/>\n",
              "  </svg>\n",
              "    </button>\n",
              "\n",
              "  <style>\n",
              "    .colab-df-container {\n",
              "      display:flex;\n",
              "      gap: 12px;\n",
              "    }\n",
              "\n",
              "    .colab-df-convert {\n",
              "      background-color: #E8F0FE;\n",
              "      border: none;\n",
              "      border-radius: 50%;\n",
              "      cursor: pointer;\n",
              "      display: none;\n",
              "      fill: #1967D2;\n",
              "      height: 32px;\n",
              "      padding: 0 0 0 0;\n",
              "      width: 32px;\n",
              "    }\n",
              "\n",
              "    .colab-df-convert:hover {\n",
              "      background-color: #E2EBFA;\n",
              "      box-shadow: 0px 1px 2px rgba(60, 64, 67, 0.3), 0px 1px 3px 1px rgba(60, 64, 67, 0.15);\n",
              "      fill: #174EA6;\n",
              "    }\n",
              "\n",
              "    .colab-df-buttons div {\n",
              "      margin-bottom: 4px;\n",
              "    }\n",
              "\n",
              "    [theme=dark] .colab-df-convert {\n",
              "      background-color: #3B4455;\n",
              "      fill: #D2E3FC;\n",
              "    }\n",
              "\n",
              "    [theme=dark] .colab-df-convert:hover {\n",
              "      background-color: #434B5C;\n",
              "      box-shadow: 0px 1px 3px 1px rgba(0, 0, 0, 0.15);\n",
              "      filter: drop-shadow(0px 1px 2px rgba(0, 0, 0, 0.3));\n",
              "      fill: #FFFFFF;\n",
              "    }\n",
              "  </style>\n",
              "\n",
              "    <script>\n",
              "      const buttonEl =\n",
              "        document.querySelector('#df-4497ab8f-f1f3-48b4-a978-bcffd4fc2883 button.colab-df-convert');\n",
              "      buttonEl.style.display =\n",
              "        google.colab.kernel.accessAllowed ? 'block' : 'none';\n",
              "\n",
              "      async function convertToInteractive(key) {\n",
              "        const element = document.querySelector('#df-4497ab8f-f1f3-48b4-a978-bcffd4fc2883');\n",
              "        const dataTable =\n",
              "          await google.colab.kernel.invokeFunction('convertToInteractive',\n",
              "                                                    [key], {});\n",
              "        if (!dataTable) return;\n",
              "\n",
              "        const docLinkHtml = 'Like what you see? Visit the ' +\n",
              "          '<a target=\"_blank\" href=https://colab.research.google.com/notebooks/data_table.ipynb>data table notebook</a>'\n",
              "          + ' to learn more about interactive tables.';\n",
              "        element.innerHTML = '';\n",
              "        dataTable['output_type'] = 'display_data';\n",
              "        await google.colab.output.renderOutput(dataTable, element);\n",
              "        const docLink = document.createElement('div');\n",
              "        docLink.innerHTML = docLinkHtml;\n",
              "        element.appendChild(docLink);\n",
              "      }\n",
              "    </script>\n",
              "  </div>\n",
              "\n",
              "\n",
              "<div id=\"df-71182a56-cc5b-45e7-ac5b-7f95fc1e10f7\">\n",
              "  <button class=\"colab-df-quickchart\" onclick=\"quickchart('df-71182a56-cc5b-45e7-ac5b-7f95fc1e10f7')\"\n",
              "            title=\"Suggest charts.\"\n",
              "            style=\"display:none;\">\n",
              "\n",
              "<svg xmlns=\"http://www.w3.org/2000/svg\" height=\"24px\"viewBox=\"0 0 24 24\"\n",
              "     width=\"24px\">\n",
              "    <g>\n",
              "        <path d=\"M19 3H5c-1.1 0-2 .9-2 2v14c0 1.1.9 2 2 2h14c1.1 0 2-.9 2-2V5c0-1.1-.9-2-2-2zM9 17H7v-7h2v7zm4 0h-2V7h2v10zm4 0h-2v-4h2v4z\"/>\n",
              "    </g>\n",
              "</svg>\n",
              "  </button>\n",
              "\n",
              "<style>\n",
              "  .colab-df-quickchart {\n",
              "      --bg-color: #E8F0FE;\n",
              "      --fill-color: #1967D2;\n",
              "      --hover-bg-color: #E2EBFA;\n",
              "      --hover-fill-color: #174EA6;\n",
              "      --disabled-fill-color: #AAA;\n",
              "      --disabled-bg-color: #DDD;\n",
              "  }\n",
              "\n",
              "  [theme=dark] .colab-df-quickchart {\n",
              "      --bg-color: #3B4455;\n",
              "      --fill-color: #D2E3FC;\n",
              "      --hover-bg-color: #434B5C;\n",
              "      --hover-fill-color: #FFFFFF;\n",
              "      --disabled-bg-color: #3B4455;\n",
              "      --disabled-fill-color: #666;\n",
              "  }\n",
              "\n",
              "  .colab-df-quickchart {\n",
              "    background-color: var(--bg-color);\n",
              "    border: none;\n",
              "    border-radius: 50%;\n",
              "    cursor: pointer;\n",
              "    display: none;\n",
              "    fill: var(--fill-color);\n",
              "    height: 32px;\n",
              "    padding: 0;\n",
              "    width: 32px;\n",
              "  }\n",
              "\n",
              "  .colab-df-quickchart:hover {\n",
              "    background-color: var(--hover-bg-color);\n",
              "    box-shadow: 0 1px 2px rgba(60, 64, 67, 0.3), 0 1px 3px 1px rgba(60, 64, 67, 0.15);\n",
              "    fill: var(--button-hover-fill-color);\n",
              "  }\n",
              "\n",
              "  .colab-df-quickchart-complete:disabled,\n",
              "  .colab-df-quickchart-complete:disabled:hover {\n",
              "    background-color: var(--disabled-bg-color);\n",
              "    fill: var(--disabled-fill-color);\n",
              "    box-shadow: none;\n",
              "  }\n",
              "\n",
              "  .colab-df-spinner {\n",
              "    border: 2px solid var(--fill-color);\n",
              "    border-color: transparent;\n",
              "    border-bottom-color: var(--fill-color);\n",
              "    animation:\n",
              "      spin 1s steps(1) infinite;\n",
              "  }\n",
              "\n",
              "  @keyframes spin {\n",
              "    0% {\n",
              "      border-color: transparent;\n",
              "      border-bottom-color: var(--fill-color);\n",
              "      border-left-color: var(--fill-color);\n",
              "    }\n",
              "    20% {\n",
              "      border-color: transparent;\n",
              "      border-left-color: var(--fill-color);\n",
              "      border-top-color: var(--fill-color);\n",
              "    }\n",
              "    30% {\n",
              "      border-color: transparent;\n",
              "      border-left-color: var(--fill-color);\n",
              "      border-top-color: var(--fill-color);\n",
              "      border-right-color: var(--fill-color);\n",
              "    }\n",
              "    40% {\n",
              "      border-color: transparent;\n",
              "      border-right-color: var(--fill-color);\n",
              "      border-top-color: var(--fill-color);\n",
              "    }\n",
              "    60% {\n",
              "      border-color: transparent;\n",
              "      border-right-color: var(--fill-color);\n",
              "    }\n",
              "    80% {\n",
              "      border-color: transparent;\n",
              "      border-right-color: var(--fill-color);\n",
              "      border-bottom-color: var(--fill-color);\n",
              "    }\n",
              "    90% {\n",
              "      border-color: transparent;\n",
              "      border-bottom-color: var(--fill-color);\n",
              "    }\n",
              "  }\n",
              "</style>\n",
              "\n",
              "  <script>\n",
              "    async function quickchart(key) {\n",
              "      const quickchartButtonEl =\n",
              "        document.querySelector('#' + key + ' button');\n",
              "      quickchartButtonEl.disabled = true;  // To prevent multiple clicks.\n",
              "      quickchartButtonEl.classList.add('colab-df-spinner');\n",
              "      try {\n",
              "        const charts = await google.colab.kernel.invokeFunction(\n",
              "            'suggestCharts', [key], {});\n",
              "      } catch (error) {\n",
              "        console.error('Error during call to suggestCharts:', error);\n",
              "      }\n",
              "      quickchartButtonEl.classList.remove('colab-df-spinner');\n",
              "      quickchartButtonEl.classList.add('colab-df-quickchart-complete');\n",
              "    }\n",
              "    (() => {\n",
              "      let quickchartButtonEl =\n",
              "        document.querySelector('#df-71182a56-cc5b-45e7-ac5b-7f95fc1e10f7 button');\n",
              "      quickchartButtonEl.style.display =\n",
              "        google.colab.kernel.accessAllowed ? 'block' : 'none';\n",
              "    })();\n",
              "  </script>\n",
              "</div>\n",
              "    </div>\n",
              "  </div>\n"
            ]
          },
          "metadata": {},
          "execution_count": 16
        }
      ],
      "source": [
        "pd.DataFrame({'asl qiymat':y_test, 'prignoz':y_predict})"
      ]
    },
    {
      "cell_type": "markdown",
      "metadata": {
        "id": "2hG0K_MTknxd"
      },
      "source": [
        "3-Vazifa\n",
        "Hisoblangan va asl qiymtlar o'rtasidagi RMSE (root mean square error), MAE (mean absolute error) hisoblang."
      ]
    },
    {
      "cell_type": "markdown",
      "metadata": {
        "id": "ESfZU9A-kot1"
      },
      "source": [
        "![image.png](data:image/png;base64,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)"
      ]
    },
    {
      "cell_type": "markdown",
      "metadata": {
        "id": "XNlT1pvEk07F"
      },
      "source": [
        "![image.png](data:image/png;base64,iVBORw0KGgoAAAANSUhEUgAAAb8AAABqCAIAAACj9cgNAAAgAElEQVR4Ae1dW08cV7beP6Bf+pEHS0gIiYdIyEL9gIUieMByhERbYyHk2EJgEQFKLPBEGCcKdjSBRHFHJwOcDM6ZaU1AdtKZcZ/MhMwBZ0wSY8s4oWfclkGejgM2Ju7EEG5qoAndVB1Vrarqunbd+ga9+gGqdtW+fbXrq7XXWnttQuMPEUAEEAFEwDwCxHwWzIEIIAKIACJAI3viIEAEEAFEwAoCyJ5WUMM8iAAigAgge+IYQAQQAUTACgLInlZQwzyIACKACCB74hhABBABRMAKAsieVlDDPIgAIoAIIHviGEAEEAFEwAoCyJ5WUMM8iAAigAgge+IYQAQQAUTACgLInlZQwzyIACKACCB74hhABBABRMAKAsieVlDDPIgAIoAIIHviGEAEEAFEwAoCyJ5WUMM8iAAigAgge+IYQAQQAUTACgLInlZQwzwCArdu3fLjDxHY+wgsLy8Lo9rgAbKnQaDwNnUEmpubCf4Qgb2PQCgUUh/i2qnIntrY4BUDCBBC3G53CH+IwB5HYGtry8B4l9yC7CmBA0/MIkAI6ezsNJsL70cE9gECyJ774CFmrQuhUIgQ0tvbm7UWYMWIQPYQQPbMHvZ7v2ZgT7/fv/e7gj1ABEwjgOxpGjLMICBw7do1QgiypwAIHuQVAsieefW4U9xZv99PCLFgrExxO7A4RCAbCCB7ZgP1/VLnwMAAsud+eZjYD9MIIHuahgwzCAh0dnYSQiy4eggl4AEisHcRQPbcu88u+y0HV/nstwNbgAhkAwFkz2ygvl/qBFf5/dIb7AciYA4BZE9zeOHdYgRyxlU+Hpm99vvGQ84j3lCcpmnu1EFcHWNhimnxdnjyo7M1JaT4zEh4R9wFPEYELCOA7GkZunzPCM6eAwMD2QZie3Hqf5oqXQcdhFQMzsS3w9d7amvP/nfPyQJCijyBWOzp7f6W2vaLPQ3PEVLpCUSy3WCsf58ggOy5Tx5k5ruRK67y1NKdK3+f/vHLswWk4OwXD66/03TOH4rEtyd7C0lRwyc3r58/0eS9F6GWJ7rLCWnyPUHZM/ODZX/WiOy5P59rBnoFzp7Xrl3LQF16VVDbAU8pcZYdO1Z7yje7Q9H09tzwCUJKjjWcbLoUjFA0Hb8/WOFkhVO9wvA6ImAMAWRPYzjhXQoETLrKU7HI/NSn/ZeDG4qS7CdEQ946Qoij+v2pdUbxSdM/j7WXEuIo6Rh5GmM0n9TcsJuQA90T6ajefgewhL2IALLnXnxqOdHm3t5eQ67ysUg4dNvff6amyJE2tSPLlQ63Z2qZtRHR9MZE9wFCSrrGnsVYsHbXx18rIKXtYz/nBHbYiH2BALLnvniM2egEuMrr1RxfDXzs8Vzsaa8tYgLopsdoA1zpHp7juJOOzwxWSCTN9YCnmpATw3Pbeg3G6/sbge3FwKe9LYeLiKOoqs3z+f0Vdmpirc/IntZww1y02+0mxPD4oR756gvTxJ4sVzorBu/DpJ1Xeookzd0H3sMFpGJweu3B14FnPMfiQ8w3BDZnfS+X13X/yXf16vD7HTUlhByo9txZtzogDI/+fMMZ+6uHACGkublZ7y7h+hN/Q1F62BOUnmVnx5f4ykDpWecNRbmU5bF2JyEHD9cef/t6GMVPHqf8+k9FQ5+ce/ufYV7YpJavd5U4iOOUb/5Xa0gge1rDLd9zbW1tmXSVTxt7UvP+xmLJOwAT+VJPYJsXKlauny1+rqbrSmARqTNvh2488ujBXISfnzAwRIJ9NYRU9kyuWgMF2dMabvmey7yrfNrYk/51bXWTp0n2uVCbq2sWpYl8f6751X+YtdT0BS0uoED2zK/xkqremneVTx97pqpPJsrZ2toaGhoykUHj1uXlZZsOs0NDQ3fv3lUt/u7du6qBq0Oh0K1bt1Sz5FTiwsKC1kq2ra2tgYEB1T2EtbKodW11sqeSlLwxviwWSNVu1EhD9tQABpOTImDeVX5fsefQ0JAJi5k2kp2dnW63W/u6zpWBgYHm5mZphMD4yu2LVY6Dp/yP5hcWXC6Xkk2GhoZcLpcq9ejUl8HLC2zjZSxPrdzsrSosPnV1fpceGBhwuVwLCwviRi0vLxNCDH7YWL1nkds7Y3nxGbKnGHw8NoqASVd5mqb3D3ual7vVUYV9TWQEoX6rWio8Ahl90PTmzKCbkMKjw9/v0jQ0VSbeLi8vu1yuXN4JFVqoJEFwRHMcHZ7dZRBpZn/SjwfDqobckOnI9ODxkiZYmaaGr4E0ZE8DIOEtCgTA2VPx6iruSyTsH/Zsbm52uVyylzbRUWNHW1tbLpfLsuC5sLCgtaMUFZm7c3NmibcsA5vIJE1gXq0pv7EepPGuzs5OdYSp9bk7kzNLnOkPvg0ykgXxU+/bEI8EP3BXX7y9YnHODp1H9kzjINjHRRtzlRcDkA72jIX9LYwPvpkfE3VJ3C6Tx3fv3jU+N0xSNvCXZcFTlRNVqwOelc3fgWIsc7dqRalKVOVErcJVdzfQEz+pWPjLC03v2PddQ/bUei6YngwBl8tlUvGXDvakqWejZ0ocQJ6OWs/oVED5m5oY++zqUF8HLHayu9QdXleZKJcMKY1rbrdbXbzSuF+crO0utr0YuNJVU+JoGVkUZYC6RAnModGFtrJs6T8F7lNMa6jY4tTlLneR4/TIYkJgvHXrFiFEppoA/u3t7VVtLBW59+dz74uok4rH4hKfDdVsaonInmqoYJoeAiadPdOn94w9G+sq4WTPqvMTi9qvQXTe315MCGnwh/V6p3UdRDYzawTUSwIBViYPqt+qlgqUIbenU2vT3payokIHIYU9k2K/VrBxybY+hUIst0GtXalJU+P6eGT6o8ayYiZSQmHvpODGS9Na83T4uis/cgrqpOnYnP/l7hEuHoK5LiB7cngpgTYHZKrvzrX2iPunNWTF9yiO0yJ7MrXE5vytZRx/ut6aSKLJoub9TSWk3vdEm2IVzZYkgJ1HpmiT3GHsBMQry9N2dZNd9OFXX848Hn3VqQiGosq2IMC6XC5jTc7QXRpDK/L9V9+EHv+j3Umc7WPL0ra42J80jbMdyWRSKnLP21hWVHO6xyP8mAgMJa0j1lbvInsysMPH2aYdQPb8kp7uRpce3Pjk3aauf4hnWOIsbrc7B+UCaKEpzRTfqbSxJ03F5v2txTB/d7rOf7OiSY6xZyPtThuKT9gFTybE8R2kaSq6NPPNJxdPd33xNJGodgSSkeXxpm2yYyNAO1r9YYlqV+t5QXdyynak1VSapjYmLhwgxY3+ednjVVXBwwdDYjuinoy08V9ZiaKc809Qe1A6acietER/Hwt42FhAEniZEz44UNjfoLhm5n2ktleCn3QchkpkMyzxs4JhlJsEChNP+cxR3Hr5MRV7OtLBKCgLa/sDTKziFP/4WTnzaJLN36nF8d5XLs/8aqUFIKxpaHu3V4Ifd1QyigFCKnom15L0D56sHYuNKl8wNUIE6MPeEOvQI7QBapRQCXsNhAb7orRQkf0DaKra0AJPLFHsAr4yVTRAhtV4WHxO2/912TMa8nWdrCnjNPOEOMpqTjacrKssLat5sbH9zT/4boRW5d6m8Znh5kSWQ13junIxtRPyunntf1HlsZeGZxKaYWZ2tjJ7+7PB811d3Z0v1Rxy1ZxoOfv24JVvw9wo+Wm850QloxRhf2wTG7jfyTpuTBc1+J8o4QIiECuYqejyo+D/9TUc5EojhBS0Dd9/FuXeuN3oyg/jvTXMVUd1+5+uBR8t85eUxWulrE32VBDFDEt2N9C6bPYhuycrp5LvjU4L4kvjFxvqKsWfJOb5yB+wTin6l43P3/XLUr8Dhkoypef2ZE8hIc5Xx5KuXQH07HwXVfmCjwDtPNR3V7ZMVYs9QUBL1iN1JNKYqsme1MNh9wFyqD+o+PJpoQECvuZEIRWd0GVPqCQ6O9zIkFP1pRlm2wOapndWQ18CxTgqz30+t6lozG708V9bC1iS4b1bFfcICWsBzxGWrQ73TMj1t1Tkvq/jcEnjh5NhWM68Gw3fvtR4kBy4MLEhEiJij/ytpUwhcrPAbnT+iy6Xyoxta2tLy/RJrd/xVB9gm0SI40VvSNxBtrWOF85fX5BMkITe6B8oggBpZIEocLmmA4X3P63jUgOPJMnG5+9JCkl2SZ/1IJKTQvSTFQrGbjXxSnaj5inwhWLiH18ee9VJyrsnZIpBzmdeydfgzJRuAU2zG2oXNNmTxVZ1awAt9oR0OzirNVCSZpA9aW5GKyUmKhLory0khDib/E9FPMbVwIV0JIQc8QSSzWWop/5TlZXPO+UGNaYcanHifBUp6JR9z9lVVjL9Du/9J20k25idp/62EoWjH7wPGjOX+MrEW4xXDvNzlJwZ5eVnKjb/aaPT3gx0e8pT6pBZDyWPhT8BM4Vy3PPXs/MfxqXCpyQ7jRHVanT+Lspi4lDvbYS9leT2bmUF8EW08+1RtaHTNKv0dL46+jj4lyvfipW/STQtML7tNEbZQTspQOgKJQMoPUvbRx9M/+XqHalhUCvOrP7Xzk5D2by22JOmf533nWInzKpbFT7xN5x6q+dFhxa9cq3fmBlsaPJ9/G4RbCAr7RN8z1UIMRLsa5HuLpuEPWkq/Nlpz5TYjYOmaS23Bq4F1NOxM+UwvAg53DvJ7vrAJjqPX/6Bk8GlrTV2BnvsKK2HytyCri2nxE+tr72y/ZlO2QkNHwflIyHJ7e/mW6ZnY4F96EQhmTWqgBFl59sD31S5SgciQDueK6ts806viYUZ4BFV6xBQj+oljeanPZkQolAKQzCkgoNl1ez2qIk2aLu+0oCSgogTee0f2WRPXiYVjCriFjE67Lard/2tTuXkN3EfI0U+/87k+neMuUZhf+FkXpXZEBVbevRoVTx1Tsaeifr4I301Fk3t/HD5uJPjT0fth9PRGCOQFrf75/mwu3xpZv7DHjsFh70PpMp99TJgoid/VdTvzVCqqo9IhurWqUb8yJLb33UKUl7WE9OWxs+WEaJi1hAXlZLJsuryIdZkVOhq7L+hCP8MXzvFTJ9pl55ALW57ho5hwEvFBcZk5HA19934UfzC0zQNb7Hq9BGUAGnVS6SKPdVkz1jAU+YJxNgwUMRR0nWd37JL/Bi2Z4ebj3pndjiabJE5W+yGvIeZqbNowy9xbsmxOfYEnztV3EWlRqYH63lrVHH9xf/qdJW3+udkj1B0v5HDjWDfEYllNrYcGvd2N1QVl79ze13OqPAJzSnVvnlXeSOwpOqezR+Gm/hPXjL7u6n6hEmAKgcxRcWDfQfF2hgqthoa955vqCwt77m1zlem+UovjbYLZk/ue32kL7i+NNYpMrgVPM/vPgJr7flSk/1PIp3RNOcXmVbloKRx1Froszdry04MBgVIaJrenL16prz83GiYsT+DLcuguKCxMImpUxNqSYNsndhkT27m7jjuk3th0TS9Pdlz0BOIUTszl6oZ5Wib/6ncOk9vfuepOMM4+muwJ70z43UzqlVS3Hxp6uektKXFnpszg23SOT4DmcE5C7XyzXkX/zIy5neLjrWJpwTqYM4yS8UWv/W21Te+fqaO8Vjk/aISd2diEIhqSxxeu3ZN+v3nLmlophIZs3+Uhvm77qtIPfHVE8GXe3txytvmPvV6Zx2jRxDNqFT8EAW8Yr8EvS/xeocDtd4H7GgHhcDBhr4vxc4tUI4Rf3uYtmtpNuFqWqe3Qv8YlvS1QQel9h8woia8YtzsT5RR/RAirSRpPHyGVIexeokmU22xJ2eYLm4ZDqkFZw77Gw72BeM0DWs8iLPc853YdE3TO0/9r1RAohZ70uwiLc4XuqTmrHc8tKzBoarsGYvMft7lqlayJyBrQP20Ex45w49p4nB7QzY0nszTWR8/W0AIo4vYjc6PXmjqGZldp7gAburzPmiq1gsgPHFqde5fymXeypR/za2KtWJCfumB2+1WrRF4JHPSirRVxs5E8/fiNt+sdNAZK0J2lx57irQx1Mb82NtN50dmI3EavINFeicdthKp2llNEcVKDxWN3ntKJ1mIDaopC7MdAH4RO+TJ+qXTHtndtk7jkeCHbRf+74epDxhZSoQJTe888TURUu0JcAIpzMd1xU/dQKUGXxzL3bLMnrHI3Nf9DWXF9e+MhCQq6kRTwv4GztoTXx7rZJyXZKbznfuDhxs4ZyBN9mQmRZEZX0cl7z9ESmrPfxrgvJcStdE0z56AmeSvXKbTexnExdIJ+Zcps6TR94MGfUtzaZyxMQodpZ7vNsL/fPvcUHCFlcfBz7ngtXHFzN24mMxBKOm42olIFNJoIw0CpipFgtSjekmrtGykswZoUmZbzcK1XW/AgC93tSewGL7+/jnvv2CfW4hHWXB2XJim6rGV2PG5pNH3YH7kt4c6Rp7y4ebESG5tbTU3Nyf3x+js7FSETxaXwS0VSSK+Se62dRJfnwk+jFI07DolcTdkjULl7wVEG6wAMyYRboxI3zD6VYUAW13hM5tkz6LKOsYLnXdBl3aYL5P7zyiCBFv55neecsYjSRTJOb48/kapsMI0GXsyBVLR+ZverhpBN1R0rHdc5m7Js2edNxgWfvOhG4ONxVUy2VPvZZB0RTZ5JyVdY3KfVMn9SU/iiyOnHaT09NDHbzddvLHI8TBY4bWWYGdetQ/qJNU3E97/nLLSKgAH2dNR3OqfV+Mdxf36CTBgtFnm6UhLCXGeHvrbxaY3v+ZDlcCku7De90iQ9fXYk6ZpwfeZkKKDZVUXxvlBomwlEKjW/P3WrVvJqZOmM2GYljcbfAOIyMJBzfmOlzcplmD6/X6F8Z0rDMIna3VcqDHH2JNlQyr6bObzC1WMMSXZtz0W8JQklvRvhryM6xIRCHf3++GjRxN+oHrsySLCauL/dKYS7DhyUxLPngJlcyiuBzxNquxpKEQC43BaXXLm8t/fBX9+RoObdDG18OxUD0Amcha52kUzSpj3iXckl+TNMHvCdE/LNKTqbKgm4lpPk3Tewkn03mBtob2PnLxWmEtqsifIU44iV+unswnFDljh3YMzCdWBAfakuZ1yGfxUFg7JW2bvXO+rwGw8GfBUGnmWBqY00Fb2S0MEWKhfg/0V1f1BkeBpr0+J3NDsnJE9BWKilid7GWM4KT4zwlrKEk3mjhgH11KRgzr11M+aQkvYjwy1GXjvkHgNEseeR/qCG4qiZAnxyH+utLJRHaXWKi32pKLhh3MS3ybOFGPAkB1bHD/vYvsoGtOEOOoHp9VUvbKWKk+5D6/sq7Me8FQTtVUiUECG2RPmRDDylD2Axsg08UbeLuP3KCs1kUKtBvvrHKTy3HhYkPhMZNe4FTDRYk/OM0TmygZrIiRTVIMzZZHbgLPFZ8s9TqM/fLIB9oytzgWVynNlijF1ukDHvDKNMYocTRpakG+r+f8w5HKPPWman8+K1+GI+8dwmfRz9MtEdwXTn+pLM9uP/U1VHWM/JcY3x548plxJVGxjQ20VeXx98l3GkV2ypliLPcWt4o4NztzZ4LvP8YrO6LyvRbC+W3SYB+f/xIJXtj2cn7Mk7Ku40QbZM1VWI9gXAUaejCUFD0Fx83LpOL4+9X61w87kQL03SVkGlkgWVA/eF/uUAKXKAhUbkT1pmv1mc18bLVc/9XaaTdWRqc0WZ+h+8bKC+PrkxSOJhXyG8hu/KXfZk6aFwLQySQp6x2iCpezJyJvs2p1Dr/7+TfchiZKY91iSsefSeNdvffOyoAds+RCRQRJoWpc9Nx4F7oVZMjbEnmzgCYmRHaaE3LAuaxsxGyiS2p7sLVQEr6X11kcDe+qaILkPENc87X/SpyIbixCcRhA/ld9tQoghjYes3IycsnsuHnBU2d2vRtlYGDAaajiI+SILrcRRqmxNhBH2ZL7Zh9o++MNpPuozv85N2SzbKUbaY7sSWQGg+mf9k6L3Bl/stmFFkJUsP81l9qRpwcFCxS+EUZfI31NG18k6b5Ki4765hODJRFGC0HAy9tycGfyNws+JxQjYU+L3oMee6ze6q/oZDyo+JDUhRNvhA3zTZAOXsXTxY5rId4Km1mY+fau1/e3hyacaRnn46pa0jIjjP8IaXlgfrb5JQLoHgXjQ+f3+gYEBYUmM0raupQ8VF5KdYwiJINeGp6YtyT63EP5H8iFnhthEdzm/JiIe441X+mzFfLOfZ4yrgqczs1jEtp+cBgz67dHIaCeZfdcLDnvv3BtsbbO79iRZQ9L94pi0uQt6T77NwsYyjqpewYLMXmSi4crZk2bD0zJuP4od6Dn2lEWIYT/gjrr+oMxDEWbu5WfGxMFJePZUDx7OmK0KElYsOimyzJZ7tQ616Cec7yrkdrq6RsP8i8GtNmFWRh3tkyyl4MGiwStY0JdDOji7FDX4Hy5Oec+9d0sc34GmaWGVi3ISLZSbwgO32w32dOihzOyew67yMBOyF71FG8dk7AlTh4pBSVBFcEEjLf75H6c+/N17t5dAVtBhK2rt/qWTTs6yKv5UFx8fDonVAtotNXdFpz3mCjN6N7zrBS/U/qYtZU4RqnUnfcdVc5hLNMae1ErAU8s0peC0/0dZqA3Bm91R3PDBbW6N7c7K3Q/rncRR2z8F/oxCq9ZvdJcUKMTJeGT6j3WMJd1Zfv76M4GPaJrXx5/wjE4vRdlVjNRmOPBJV3VNh+++2IWYiv7nciMrFzrq+qaWJNJfbG129HdVjgPu4YeCwKsxHY5FwtPjvGtUQctH/36yLipqN7oUHG5h4+DBkyEHqro+mZqDEJ9ULDL7jYdZGS928RO6ztGr3KkTKJUQUlrv+TrBxXw2eG8zNlkWvEAgKIbMsAaNUQqkfGOz9Z+Lvsx5mCdtBfXs2vlmr1kLryCMK8tmPPOUTxwolTGrnvCIVmcDgGoagN3o0vSo50QxIQe6xjkPajDlw0hzvHB+9GFE9GooW2IhBdgziTu9hTL1s8AiApmRTT+buTsyECBZlz1/Gu9pqilj43RyfFFcWXdmWOSEQdO70XDgs8E32xuPVZb9xvO/V95KhEZmhk9l3bvjS0Kw442Z4f6RJwlVpjSUMltHUWVdz/gSYBVbmZ0c8Xq6Wk7WlBVX1re/9sbZ13ov/U3iLb803iMO4MyU4SiqPMbHRxZaU9MXTBjK1cYNL71yPYV/iQVk3NIRyVX+RJDK2REvsxVAV5jFfEVVDW+OPpGsZV+b8rhddW94b86r2ce4XUMyPb75PRdlQRZg0X3OsSeERnY2Df+Q8A3SeNXYtcXuYanaSONeaTI8aYX/9s4T36miysY3x+YlT3XzW09FRd0bH918Io5Bq7XuNi5dz+5g1ujF7w8+L37vmPodzw9OC2+StHnWzgwaJK0VrpmLYc/yjpF5kVyiea/lC8mmC5YLlWbUZU/p7fvoDD5NKZfpqOWxjgLwylKAFduMgPisuJIkAWRAQSRMcmdqL8HXhRAi5gtIVJqSUlu1ydJAQ21obsu6nTlLFbEKjdSoEatcyy1EvUhBD6OtcFfPmKZUjRlYmmqDYjdnfS8fSpudXWg6uBOoifnCLXYP8pc9Beeb1BETFVu8c6nxUNX5L5UTcGsPCiaMaR0BWg2DwUcIES8rgjVIucSexpcVwdrig4SUneUnNlp9V01PFdGADJsjGGp8ElQBSEki61JWnnTr05TUQxt0rbVVWV6zJ8j2Wi7QpnHdmRk+c8E7HlpNnXIK2ErXV8l0Uw1kEDR94nk6MEiOyE1MJzgfMpGiht/QSvqfX1vMUNeJ4TmZ7t4AHKkL5gYYpu6bbajxqjcJgnBmDJJMwIrpjxpLjnqm1GJVqjbRRiK8O3ohKG1UQNN5zZ40r93LEUFA9iSBv2R2G9k9aT0FKUmscgU1gn6l1PrsWH9r1QvdE7/wN28vBq5017mckhimOyvTn3taDxfJd47iMyX/zy0rgmYa/iszjievQnQ1VbHKYamr+JskqiSjhyA9pFx5pdEHMC8XpWdTVZU6M/CVynf2hI3h3G53DslT/EiACLhitSN/JUP/lWZ3tV0T5I2hIg/8XUfYUAS8wS329Hb/S1U1bnbfU96lN/ZLcKi9quoIm8jfKS8s6Tnn5WaYN9kb1d0hktYDF+FjZp9rki/6NNCQlN0C3wPx1zFlRcsL2lkJehuLnSmM2yKvQXEOwyKtYnW+sydNM9HYXC5XyubviqdoLWFgYMDlcmWROoXA42Kzu76r/O4j/ysd/RP3b1ysJISNWhBbuH7h5XP+BxEK4k2w7q5M4qm2oX+vxCDRoi7SGraWc+lshGWs3Ax40hhrCBdYPu16IWot5H+9ykHSsQZMq6eZMRggezL4LywsDAwM5JT4CQt+tAZHZtJlZneY6OmJKhs/hSOUED//2ePrF165wG3dzMYccpweebY45WniF5kY3Zw5M11OXguo0uyrLEGoz+6nUYgbm1bpjNk40v96Y9fvL4/eDi1ZUTcnfyJaV0Gslq310LrZcjqyp2Xo9n9GwWMOzO5wakhhB/Hz3X2fD3W+7PueWyQDwVAO943+tavpUpBb6QArbqWBiBTIxlduX6xyHDzlfyTxqVTcZyWBiq4uhALXfX1nW3u+4pyMtcqBSbfe90MrdyI9F1SfmZHOEn3O7BFsLSd2F0lH/cie6UB1n5QpzDGBMY27ykNMdefz1cde+ycfKpimF0daHMRRUVX720SwdGObM8Ni1sKjw9+nmj2jTya/8F/9c099qUFPppTsJwrAZtEeSNPcKoy0T9uz8SqAL4F9DbVu25E9dSHK6xtA9Q7SlmFXeQiGQhzV70+tCytjuGAo0qDF6oGIlIhTkbk7N2eWUucKJq0Ctgs3pHsFsdH+5B0swmmeNUt7KT2DXRFzSlslbaD1M5giGJokWa+EyYnsaQ+//Z4bXnKQkgy7ykNM9UNd48+EqAI0DfKjbBUWhIVObAeWJThNsCeIjfZtjKAGSbdiTgvP7Nau1apUpYOzSgY+DMieqXpk+7McYEDxhZcAAAPHSURBVEwwuwOT6vdTLaY6s69qYzFxtPrDosXNENtNEuJaWTzjKNpVU6IaOkB5t6UUE+wpzHnt+whDFOoMvORKTKDqLEq+yialKsWEdt52lcietiHc1wWIze4w19PtLoTFcoqCATJZIFyQzFMdAhExMTuoWGRDxSJLrU17W8qKCh3KkNKJdsQiSz8JuwCqHCxFRISdyCY6MseeutuIi0pOdgh2m7QuhlGtHtbgZmBiq1p7uhNhL/jMfJOQPdP9NPd2+fAlh9XuhBADho5Y2N/qIJJggMym0jODFYQc6J4Q71oFsd2KPDfDgcvnLvxDZR+i6MOvvpx5PPqqk5S2j/2sDiW3VZS2z7wkhLZqGebYk6bpu3fvpsQokWTbSNWGpiTR7/fb1zykpCUpLwT0KvanBQYbhuxpEKg8vU0wu4O1xMBbB0pP2TYVKnvz0rQQD/BAVffIbESwL8mgZoO0y6b8slvsnppmT9iewG61bP7MT5+32F9KGp+DhWQST2TPHBwAudUkEOpgmY2+lWN7ylNRVd/+x6lVMRv+PNZxpOalnpG5qKhvu+sTvyuverlv7KE4yrXoBvYQgrTry4/yfGbOrbCnmfLx3v2JALLn/nyuKewVGIuAQ/WVZdSv0W2lU2YsGtXTPWq0mHUITb6teab1nhotxeS8QwDZM+8eudkOC2Z3QkjGnavBIVS225W0B9nQe0pbgGd5igCyZ54+eOPdFszuhJCM6eP55rFKT+ero4+Df7nyrWy/PP4e+/9x5m4fw3wsAdkzH5+6qT4LZvcssCfIlY7nyirbvNPcVmmmGm/s5kiwr4aQ51pHfhS59xvLinflMQLInnn88I11XTC7i0PVGctq+y7GZFToauy/we3VartAeQHrM/7+ns76MjYcKSk63NJ98cMJ8TbX8gx4jggICCB7ClDggSYCgi+l5h14ARHIPwSQPfPvmZvvsXi1u/ncmAMR2J8IIHvuz+ea2l4ZdpVPbbVYGiKQ0wgge+b048mRxkFkz8yvyM6R7mMzEAFVBJA9VWHBRAkCmYxbI6kYTxCBHEYA2TOHH07ONA2CddsPCZwzHcKGIAIpQADZMwUg5kMRLpcr467y+YAr9nEPI4DsuYcfHjYdEUAEsogAsmcWwceqEQFEYA8jgOy5hx8eNh0RQASyiACyZxbBx6oRAURgDyOA7LmHHx42HRFABLKIALJnFsHHqhEBRGAPI4DsuYcfHjYdEUAEsogAsmcWwceqEQFEYA8jgOy5hx8eNh0RQASyiACyZxbBx6oRAURgDyPw/zDHNrNjGXaKAAAAAElFTkSuQmCC)"
      ]
    },
    {
      "cell_type": "code",
      "execution_count": 17,
      "metadata": {
        "colab": {
          "base_uri": "https://localhost:8080/"
        },
        "id": "Et5yvVygktqN",
        "outputId": "30cc6540-246d-40bd-cde0-4f9cd8db7228"
      },
      "outputs": [
        {
          "output_type": "stream",
          "name": "stdout",
          "text": [
            "MEA=9764.882628357967\n"
          ]
        }
      ],
      "source": [
        "MEA=np.sum(np.absolute(y_predict-y_test))/len(y_test)\n",
        "print(f\"{MEA=}\")"
      ]
    },
    {
      "cell_type": "code",
      "execution_count": 18,
      "metadata": {
        "colab": {
          "base_uri": "https://localhost:8080/"
        },
        "id": "7QWE5H_fmSgd",
        "outputId": "103e7ee6-4f35-465c-bf2a-03ebee77de12"
      },
      "outputs": [
        {
          "output_type": "stream",
          "name": "stdout",
          "text": [
            "RMSE=11322.293990173284\n"
          ]
        }
      ],
      "source": [
        "RMSE=np.sqrt(sum(y_predict-y_test)**2/len(y_test))\n",
        "print(f\"{RMSE=}\")"
      ]
    }
  ],
  "metadata": {
    "colab": {
      "provenance": [],
      "authorship_tag": "ABX9TyPqeidRVgaTzCzD/gjewyvh",
      "include_colab_link": true
    },
    "kernelspec": {
      "display_name": "Python 3",
      "name": "python3"
    },
    "language_info": {
      "name": "python"
    }
  },
  "nbformat": 4,
  "nbformat_minor": 0
}